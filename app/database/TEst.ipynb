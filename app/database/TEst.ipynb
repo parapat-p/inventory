{
 "cells": [
  {
   "cell_type": "code",
   "execution_count": 66,
   "metadata": {},
   "outputs": [],
   "source": [
    "import mysql.connector"
   ]
  },
  {
   "cell_type": "code",
   "execution_count": 67,
   "metadata": {},
   "outputs": [],
   "source": []
  },
  {
   "cell_type": "code",
   "execution_count": 68,
   "metadata": {},
   "outputs": [],
   "source": [
    "from Inventory_DB import InventoryDatabase"
   ]
  },
  {
   "cell_type": "code",
   "execution_count": 69,
   "metadata": {},
   "outputs": [],
   "source": [
    "Inv = InventoryDatabase()"
   ]
  },
  {
   "cell_type": "code",
   "execution_count": 70,
   "metadata": {},
   "outputs": [],
   "source": []
  },
  {
   "cell_type": "code",
   "execution_count": 71,
   "metadata": {},
   "outputs": [],
   "source": [
    "Inv.database_init(database)"
   ]
  },
  {
   "cell_type": "code",
   "execution_count": 72,
   "metadata": {},
   "outputs": [
    {
     "data": {
      "text/plain": [
       "[(10, 5, 0, 0, 0, 0, 0, 5, 0, 0, 45, 0, 0, 0, 0, 40000, 0, 40000),\n",
       " (9, 5, 0, 0, 0, 4, 4, 1, 0, 0, 45, 72000, 0, 0, 20, 8000, 71980, 8020),\n",
       " (8, 5, 0, 0, 0, 9, 5, 0, 4, 0, 45, 90000, 0, 0, 65, 0, 89935, 65),\n",
       " (7, 5, 0, 0, 0, 14, 5, 0, 9, 0, 45, 90000, 0, 0, 115, 0, 89885, 115),\n",
       " (6, 5, 0, 0, 0, 19, 5, 0, 14, 0, 45, 90000, 0, 0, 165, 0, 89835, 165),\n",
       " (5, 5, 0, 0, 24, 24, 5, 0, 19, 0, 0, 90000, 240000, 0, 215, 0, -150215, 215),\n",
       " (4, 5, 24, 1, 0, 0, 0, 5, 0, 0, 0, 0, 0, 0, 0, 40000, 0, 40000),\n",
       " (3, 5, 24, 2, 0, 0, 0, 5, 0, 0, 0, 0, 0, 0, 0, 40000, 0, 40000),\n",
       " (2, 5, 24, 3, 0, 0, 0, 5, 0, 0, 0, 0, 0, 0, 0, 40000, 0, 40000),\n",
       " (1, 5, 0, 0, 0, 0, 0, 5, 0, 24, 45, 0, 0, 5625, 0, 40000, -5625, 45625)]"
      ]
     },
     "execution_count": 72,
     "metadata": {},
     "output_type": "execute_result"
    }
   ],
   "source": [
    "Inv.get_all_data(\"A\")"
   ]
  },
  {
   "cell_type": "code",
   "execution_count": 73,
   "metadata": {},
   "outputs": [],
   "source": [
    "import openpyxl"
   ]
  },
  {
   "cell_type": "code",
   "execution_count": 74,
   "metadata": {},
   "outputs": [],
   "source": [
    "import os"
   ]
  },
  {
   "cell_type": "code",
   "execution_count": 77,
   "metadata": {},
   "outputs": [],
   "source": [
    "excel_column = {\n",
    "            \"Period\" : \"B\",\n",
    "            \"Demand\" : \"C\",\n",
    "            \"On order\" : \"D\",\n",
    "            \"Arrive\" : \"E\",\n",
    "            \"Recieve\" : \"F\",\n",
    "            \"Starting_inv\" : \"G\",\n",
    "            \"Sold\" : \"H\",\n",
    "            \"Shortage\" : \"I\",\n",
    "            \"Ending_inv\" : \"J\",\n",
    "            \"Order\" : \"L\",\n",
    "            \"Eoq order\" :\"M\",\n",
    "            \"Revenue\" : \"O\",\n",
    "            \"Item Cost\" : \"P\",\n",
    "            \"Order Cost\" : \"Q\",\n",
    "            \"Holding Cost\" : \"R\",\n",
    "            \"Shortage Cost\" :\"S\",\n",
    "            \"Sales Profit\" : \"T\",\n",
    "            \"Variable Cost\" : \"U\",\n",
    "        }"
   ]
  },
  {
   "cell_type": "code",
   "execution_count": 75,
   "metadata": {},
   "outputs": [],
   "source": [
    "new_workbook = openpyxl.Workbook()\n",
    "excel_keys = [\"B\",\"C\",\"D\",\"E\",\"F\",\"G\",\"H\",\"I\",\"J\",\"L\",\"M\",\"O\",\"P\",\"Q\",\"R\",\"S\",\"T\",\"U\"]\n",
    "\n",
    "\n",
    "for i,team in enumerate([\"A\",\"B\"]):\n",
    "    team_values = Inv.get_all_data(team)[::-1]\n",
    "    new_worksheet = new_workbook.active if i == 0 else new_workbook.create_sheet()\n",
    "    new_worksheet.title = f\"<TEAM_{team}>\"\n",
    "    for key in excel_column.keys():\n",
    "        new_worksheet[excel_column[key] + \"2\"].value = key\n",
    "    for row in range(len(team_values)):\n",
    "        for col in range(len(excel_keys)):\n",
    "            new_worksheet[excel_keys[col] + str(row+4)].value = team_values[row][col]\n",
    "    new_workbook.save(os.path.abspath(f\"save/data.xlsx\"))"
   ]
  }
 ],
 "metadata": {
  "kernelspec": {
   "display_name": "base",
   "language": "python",
   "name": "python3"
  },
  "language_info": {
   "codemirror_mode": {
    "name": "ipython",
    "version": 3
   },
   "file_extension": ".py",
   "mimetype": "text/x-python",
   "name": "python",
   "nbconvert_exporter": "python",
   "pygments_lexer": "ipython3",
   "version": "3.10.9"
  },
  "orig_nbformat": 4
 },
 "nbformat": 4,
 "nbformat_minor": 2
}
